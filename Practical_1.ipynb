{
 "cells": [
  {
   "cell_type": "markdown",
   "id": "1fa7d1c2-f7df-4c06-8c85-37fa60e134df",
   "metadata": {},
   "source": [
    "## Q -Session Question"
   ]
  },
  {
   "cell_type": "markdown",
   "id": "ee29a3f1-b726-4be8-8c0c-d4ffaefc2b6d",
   "metadata": {},
   "source": [
    "# Q-1 > Create a 3x3 matrix with values ranging from 0 to 8."
   ]
  },
  {
   "cell_type": "code",
   "execution_count": 142,
   "id": "0b1ac8a8-3988-41fe-8f30-fecdf2ae62f1",
   "metadata": {},
   "outputs": [],
   "source": [
    "import pandas as pd\n",
    "import numpy as np\n",
    "from scipy import stats"
   ]
  },
  {
   "cell_type": "code",
   "execution_count": 20,
   "id": "2702b3f8-a5ee-4efa-b768-d52dd916dc3b",
   "metadata": {},
   "outputs": [
    {
     "name": "stdout",
     "output_type": "stream",
     "text": [
      "[[0 1 2]\n",
      " [3 4 5]\n",
      " [6 7 8]]\n"
     ]
    }
   ],
   "source": [
    "# Creating a 3*3 Matrix\n",
    "arr1 = np.arange(0,9,1,int).reshape(3,3)\n",
    "print(arr1)"
   ]
  },
  {
   "cell_type": "markdown",
   "id": "18a2fc29-8ef2-4838-add9-dfcca9da6b9e",
   "metadata": {},
   "source": [
    "# Q-2 Given a 2D array, extract all the elements that are greater than a specified value (specified_value = 5)."
   ]
  },
  {
   "cell_type": "code",
   "execution_count": 45,
   "id": "f84e367a-d8a0-4c83-8ef0-dfaf37e0193a",
   "metadata": {},
   "outputs": [
    {
     "name": "stdout",
     "output_type": "stream",
     "text": [
      "[11 12 15  6 10 10  8 12 12 15  8  6]\n"
     ]
    }
   ],
   "source": [
    "arr_2d = np.array([[11, 12, 5, 2], [15, 6,10,5], [10, 8, 12, 5], [12,15,8,6]])\n",
    "print(arr_2d[arr_2d > 5])\n"
   ]
  },
  {
   "cell_type": "markdown",
   "id": "aaea1b57-d27f-47c2-80f9-c4f1f4a1d719",
   "metadata": {},
   "source": [
    "# Q-3 Create a 5x5 identity matrix.(np.eye)"
   ]
  },
  {
   "cell_type": "code",
   "execution_count": 25,
   "id": "2ba24a3a-7e3e-4ffd-92d7-5797645a4dec",
   "metadata": {},
   "outputs": [
    {
     "name": "stdout",
     "output_type": "stream",
     "text": [
      "[[1. 0. 0. 0. 0.]\n",
      " [0. 1. 0. 0. 0.]\n",
      " [0. 0. 1. 0. 0.]\n",
      " [0. 0. 0. 1. 0.]\n",
      " [0. 0. 0. 0. 1.]]\n"
     ]
    }
   ],
   "source": [
    "arr_iden = np.eye(5,5)\n",
    "print(arr_iden)"
   ]
  },
  {
   "cell_type": "markdown",
   "id": "eb8dc376-e1f4-4018-9112-e7a0524d07b6",
   "metadata": {},
   "source": [
    "# Q-4 Swap the first and last rows of a 2D array."
   ]
  },
  {
   "cell_type": "code",
   "execution_count": 52,
   "id": "61d55c0a-de24-4b40-b8d6-7d5163e6dd6c",
   "metadata": {},
   "outputs": [
    {
     "name": "stdout",
     "output_type": "stream",
     "text": [
      "The Orignal Array\n",
      "[[12 15  8  6]\n",
      " [15  6 10  5]\n",
      " [10  8 12  5]\n",
      " [11 12  5  2]]\n",
      "After Swap\n",
      "[[11 12  5  2]\n",
      " [15  6 10  5]\n",
      " [10  8 12  5]\n",
      " [12 15  8  6]]\n"
     ]
    }
   ],
   "source": [
    "print(\"The Orignal Array\")\n",
    "print(arr_2d)\n",
    "print(\"After Swap\")\n",
    "arr_2d[[0,3]] = arr_2d[[3,0]]\n",
    "print(arr_2d)"
   ]
  },
  {
   "cell_type": "markdown",
   "id": "449bac1c-0fbd-4a7a-9a75-52b012f40055",
   "metadata": {},
   "source": [
    "# Given a 1D array, find the indices of the minimum and maximum values (np.argmin/np.argmax)."
   ]
  },
  {
   "cell_type": "code",
   "execution_count": 80,
   "id": "6f93808e-3c8e-44cd-956a-489053075f2e",
   "metadata": {},
   "outputs": [
    {
     "name": "stdout",
     "output_type": "stream",
     "text": [
      "The Minimum indices\n",
      "2\n",
      "The Maximum indices\n",
      "4\n"
     ]
    }
   ],
   "source": [
    "arr_3 = np.array([4,9,1,11,20,19,14])\n",
    "print(\"The Minimum indices\")\n",
    "mi = np.argmin(arr_3)\n",
    "print(mi)\n",
    "print(\"The Maximum indices\")\n",
    "ma = np.argmax(arr_3)\n",
    "print(ma)"
   ]
  },
  {
   "cell_type": "markdown",
   "id": "27ff543a-7c6a-4e40-94e4-33f0d42ffe58",
   "metadata": {},
   "source": [
    "# Sort a given 1D array in ascending and descending order."
   ]
  },
  {
   "cell_type": "code",
   "execution_count": 84,
   "id": "0543cdb6-d602-454c-b532-5ec16435caf7",
   "metadata": {},
   "outputs": [
    {
     "name": "stdout",
     "output_type": "stream",
     "text": [
      "The orignal\n",
      "[ 4  9  1 11 20 19 14]\n",
      "The ascending Order\n",
      "[ 1  4  9 11 14 19 20]\n"
     ]
    }
   ],
   "source": [
    "print(\"The orignal\")\n",
    "print(arr_3)\n",
    "print(\"The ascending Order\")\n",
    "asce = arr_3.sort() \n",
    "print (arr_3)\n",
    "\n"
   ]
  },
  {
   "cell_type": "markdown",
   "id": "c11db3b5-a6a6-409b-8f45-73da240c5f52",
   "metadata": {},
   "source": [
    "# Q - Numpy Question"
   ]
  },
  {
   "cell_type": "markdown",
   "id": "ff189279-600d-4e40-99c2-18e5a8424e30",
   "metadata": {},
   "source": [
    "# Creating array till 10."
   ]
  },
  {
   "cell_type": "code",
   "execution_count": 92,
   "id": "6aa445d0-78d5-4cb9-8a46-77f96ed1fde9",
   "metadata": {},
   "outputs": [
    {
     "name": "stdout",
     "output_type": "stream",
     "text": [
      "[ 1  2  3  4  5  6  7  8  9 10]\n"
     ]
    }
   ],
   "source": [
    "\n",
    "arr_ten = np.array([1,2,3,4,5,6,7,8,9,10])\n",
    "print(arr_ten)\n"
   ]
  },
  {
   "cell_type": "markdown",
   "id": "16057f55-8ce9-435f-970e-1fbd31a5176b",
   "metadata": {},
   "source": [
    "# Array Operations: Perform element-wise addition, subtraction, multiplication, and division on two NumPy arrays."
   ]
  },
  {
   "cell_type": "code",
   "execution_count": 102,
   "id": "a32f83a6-b9b7-46f6-a4fb-6831980e35c0",
   "metadata": {},
   "outputs": [
    {
     "name": "stdout",
     "output_type": "stream",
     "text": [
      "The result is - \n",
      " [[ -6 -14   0]\n",
      " [  1   0  -3]\n",
      " [ -5   5   8]]\n",
      "The result is - \n",
      " [[ 8 18  6]\n",
      " [ 7 10 15]\n",
      " [19 11 10]]\n",
      "The result is - \n",
      " [[ 7 32  9]\n",
      " [12 25 54]\n",
      " [84 24  9]]\n",
      "The result is -\n",
      " [[0.14285714 0.125      1.        ]\n",
      " [1.33333333 1.         0.66666667]\n",
      " [0.58333333 2.66666667 9.        ]]\n"
     ]
    }
   ],
   "source": [
    "ha_1 = np.array([[1,2,3],[4,5,6],[7,8,9]])\n",
    "ha_2 = np.array([[7,16,3],[3,5,9],[12,3,1]])\n",
    "subtr = np.subtract(ha_1,ha_2)\n",
    "print (\"The result is - \\n\", subtr)\n",
    "Addi = np.add(ha_1,ha_2)\n",
    "print (\"The result is - \\n\", Addi)\n",
    "Mul = np.multiply(ha_1,ha_2)\n",
    "print (\"The result is - \\n\", Mul)\n",
    "Div = np.divide(ha_1,ha_2)\n",
    "print (\"The result is -\\n\", Div)"
   ]
  },
  {
   "cell_type": "markdown",
   "id": "2b8e5ccf-ee20-45e2-aa6c-525572259d43",
   "metadata": {},
   "source": [
    "# Array Slicing: Extract the first three elements from a NumPy array."
   ]
  },
  {
   "cell_type": "code",
   "execution_count": 109,
   "id": "e08ac258-205d-46af-ba77-1c52e3ac267d",
   "metadata": {},
   "outputs": [
    {
     "name": "stdout",
     "output_type": "stream",
     "text": [
      "the orignal array\n",
      "[ 1  2  3  4  5  6  7  8  9 10]\n",
      "The first three element\n",
      "[1 2 3]\n"
     ]
    }
   ],
   "source": [
    "print (\"the orignal array\")\n",
    "print(arr_ten)\n",
    "print(\"The first three element\")\n",
    "print(arr_ten[0:3])"
   ]
  },
  {
   "cell_type": "markdown",
   "id": "cac4e758-393d-4620-b72f-ec52a9d350ed",
   "metadata": {},
   "source": [
    "# Array Reshaping: Reshape a 1D NumPy array into a 2D array with 2 rows and 3 columns."
   ]
  },
  {
   "cell_type": "code",
   "execution_count": 121,
   "id": "158b504e-ec11-4ce4-9150-3168e7ec03e0",
   "metadata": {},
   "outputs": [
    {
     "data": {
      "text/plain": [
       "array([[1, 2, 3],\n",
       "       [4, 5, 6]])"
      ]
     },
     "execution_count": 121,
     "metadata": {},
     "output_type": "execute_result"
    }
   ],
   "source": [
    "arr_six = np.array([1,2,3,4,5,6])\n",
    "arr_six.reshape(2,3)\n"
   ]
  },
  {
   "cell_type": "markdown",
   "id": "ad20a6af-0b43-48c0-bf9d-0cb1bee9c94f",
   "metadata": {},
   "source": [
    "# Array Aggregation: Calculate the mean, median, and standard deviation of a NumPy array"
   ]
  },
  {
   "cell_type": "code",
   "execution_count": 136,
   "id": "8ba62415-1f94-419d-ad4f-0c8db2f46661",
   "metadata": {},
   "outputs": [
    {
     "name": "stdout",
     "output_type": "stream",
     "text": [
      "3.5\n"
     ]
    }
   ],
   "source": [
    "# Mean\n",
    "Mean_of_array = np.mean(arr_six)\n",
    "print(Mean_of_array)"
   ]
  },
  {
   "cell_type": "code",
   "execution_count": 138,
   "id": "a4881c54-860c-4890-897a-d0944fb9a23a",
   "metadata": {},
   "outputs": [
    {
     "name": "stdout",
     "output_type": "stream",
     "text": [
      "3.5\n"
     ]
    }
   ],
   "source": [
    "# Median \n",
    "Median_of_array = np.median(arr_six)\n",
    "print(Median_of_array)"
   ]
  },
  {
   "cell_type": "code",
   "execution_count": 144,
   "id": "bcd41a4e-e838-4dea-af9c-d38c223d1938",
   "metadata": {},
   "outputs": [
    {
     "name": "stdout",
     "output_type": "stream",
     "text": [
      "ModeResult(mode=7, count=3)\n"
     ]
    }
   ],
   "source": [
    "ar = np.array([5,3,2,4,5,6,7,8,9,9,8,7,7,6])\n",
    "Mode_of_array = stats.mode(ar)\n",
    "print(Mode_of_array)"
   ]
  },
  {
   "cell_type": "markdown",
   "id": "f718f558-a08e-4cd2-acc9-fd5602782f0b",
   "metadata": {},
   "source": [
    "# PANDA QUESTIONS"
   ]
  },
  {
   "cell_type": "code",
   "execution_count": null,
   "id": "e08b89c7-e6bd-4dae-9671-68c22f07662d",
   "metadata": {},
   "outputs": [],
   "source": [
    "\n",
    "\n",
    "DataFrame Operations: Add a new column to an existing DataFrame. Perform element-wise operations between two columns.\n",
    "\n",
    "Data Selection: Select rows based on a condition. Select specific columns from a DataFrame.\n",
    "\n",
    "Data Aggregation: Group the data in a DataFrame based on a categorical column and calculate the mean of each group.\n",
    "\n",
    "Data Cleaning: Handle missing values by either removing or replacing them with appropriate values."
   ]
  },
  {
   "cell_type": "markdown",
   "id": "1e1b2901-377b-4f7f-bb97-a2d0ba8cfed0",
   "metadata": {},
   "source": [
    "# DataFrame Creation: Create a pandas DataFrame from a dictionary of lists, where each list represents a column."
   ]
  },
  {
   "cell_type": "code",
   "execution_count": 302,
   "id": "6b512103-b122-497c-9fc8-05fb56db94c6",
   "metadata": {},
   "outputs": [
    {
     "name": "stdout",
     "output_type": "stream",
     "text": [
      "{'Name': ['ALICE', 'Bob', 'Cyan', 'Bob', 'Kayne', 'kill', 'rao', 'ram'], 'Age': [23, 23, 25, 26, 27, 22, 23, 23], 'City': ['Newyork', 'Chicago', 'Houston', 'Pheonix', 'Los Angeles', 'UK', 'India', 'WI']}\n",
      "    Name  Age         City\n",
      "0  ALICE   23      Newyork\n",
      "1    Bob   23      Chicago\n",
      "2   Cyan   25      Houston\n",
      "3    Bob   26      Pheonix\n",
      "4  Kayne   27  Los Angeles\n",
      "5   kill   22           UK\n",
      "6    rao   23        India\n",
      "7    ram   23           WI\n"
     ]
    }
   ],
   "source": [
    "# cREATE A DATA\n",
    "data = {'Name': ['ALICE', 'Bob','Cyan', 'Bob','Kayne','kill','rao', 'ram'],\n",
    "       'Age' : [23,23,25,26,27,22,23,23],\n",
    "       'City' : ['Newyork','Chicago','Houston','Pheonix','Los Angeles','UK','India','WI']}\n",
    "print(data)\n",
    "df = pd.DataFrame(data)\n",
    "print(df)"
   ]
  },
  {
   "cell_type": "markdown",
   "id": "2c708306-0d7f-4149-9f81-2adab6366f8a",
   "metadata": {},
   "source": [
    "# DataFrame Operations: Add a new column to an existing DataFrame. Perform element-wise operations between two columns."
   ]
  },
  {
   "cell_type": "code",
   "execution_count": 305,
   "id": "b3dfcd01-6831-4b46-adf4-d81b637b72e4",
   "metadata": {},
   "outputs": [],
   "source": [
    "df.insert(2, \"Earnings\", [21000, 23500, 24999, 29000,31000,40000,35090,50000], True)"
   ]
  },
  {
   "cell_type": "code",
   "execution_count": 307,
   "id": "a4fd4ab0-97da-4b7b-91c8-aca631a489a8",
   "metadata": {},
   "outputs": [],
   "source": [
    "df[\"Earning_by_month\"] = df[\"Earnings\"] / 12"
   ]
  },
  {
   "cell_type": "code",
   "execution_count": 309,
   "id": "90ee8ff0-f603-4068-9a2a-e8f7835ff33d",
   "metadata": {},
   "outputs": [
    {
     "name": "stdout",
     "output_type": "stream",
     "text": [
      "    Name  Age  Earnings         City  Earning_by_month\n",
      "0  ALICE   23     21000      Newyork       1750.000000\n",
      "1    Bob   23     23500      Chicago       1958.333333\n",
      "2   Cyan   25     24999      Houston       2083.250000\n",
      "3    Bob   26     29000      Pheonix       2416.666667\n",
      "4  Kayne   27     31000  Los Angeles       2583.333333\n",
      "5   kill   22     40000           UK       3333.333333\n",
      "6    rao   23     35090        India       2924.166667\n",
      "7    ram   23     50000           WI       4166.666667\n"
     ]
    }
   ],
   "source": [
    "print(df)"
   ]
  },
  {
   "cell_type": "markdown",
   "id": "feebb45e-80a1-4373-8190-325c23c3f444",
   "metadata": {},
   "source": [
    "# Data Selection: Select rows based on a condition. Select specific columns from a DataFrame. "
   ]
  },
  {
   "cell_type": "code",
   "execution_count": 312,
   "id": "3ea6cebf-a74e-4ea5-b502-6a6853442838",
   "metadata": {},
   "outputs": [],
   "source": [
    "filtered_df = df[df['Age'] > 22]"
   ]
  },
  {
   "cell_type": "code",
   "execution_count": 314,
   "id": "f1955362-20ab-4040-96f4-fde449b28341",
   "metadata": {},
   "outputs": [
    {
     "name": "stdout",
     "output_type": "stream",
     "text": [
      "    Name  Age  Earnings         City  Earning_by_month\n",
      "0  ALICE   23     21000      Newyork       1750.000000\n",
      "1    Bob   23     23500      Chicago       1958.333333\n",
      "2   Cyan   25     24999      Houston       2083.250000\n",
      "3    Bob   26     29000      Pheonix       2416.666667\n",
      "4  Kayne   27     31000  Los Angeles       2583.333333\n",
      "6    rao   23     35090        India       2924.166667\n",
      "7    ram   23     50000           WI       4166.666667\n"
     ]
    }
   ],
   "source": [
    "print(filtered_df)"
   ]
  },
  {
   "cell_type": "markdown",
   "id": "852ed78e-c86c-4fc9-8a59-ffab30cde386",
   "metadata": {},
   "source": [
    "# Data Aggregation: Group the data in a DataFrame based on a categorical column and calculate the mean of each group."
   ]
  },
  {
   "cell_type": "code",
   "execution_count": 317,
   "id": "fbdc536a-7561-4f6e-aed7-e374ca72a8ab",
   "metadata": {},
   "outputs": [],
   "source": [
    "filtta = df.groupby([\"Name\",\"City\"])"
   ]
  },
  {
   "cell_type": "code",
   "execution_count": 319,
   "id": "0142ea51-a4f7-4b2d-a633-19f11a37602c",
   "metadata": {},
   "outputs": [
    {
     "data": {
      "text/html": [
       "<div>\n",
       "<style scoped>\n",
       "    .dataframe tbody tr th:only-of-type {\n",
       "        vertical-align: middle;\n",
       "    }\n",
       "\n",
       "    .dataframe tbody tr th {\n",
       "        vertical-align: top;\n",
       "    }\n",
       "\n",
       "    .dataframe thead th {\n",
       "        text-align: right;\n",
       "    }\n",
       "</style>\n",
       "<table border=\"1\" class=\"dataframe\">\n",
       "  <thead>\n",
       "    <tr style=\"text-align: right;\">\n",
       "      <th></th>\n",
       "      <th></th>\n",
       "      <th>Age</th>\n",
       "    </tr>\n",
       "    <tr>\n",
       "      <th>Name</th>\n",
       "      <th>City</th>\n",
       "      <th></th>\n",
       "    </tr>\n",
       "  </thead>\n",
       "  <tbody>\n",
       "    <tr>\n",
       "      <th>ALICE</th>\n",
       "      <th>Newyork</th>\n",
       "      <td>1</td>\n",
       "    </tr>\n",
       "    <tr>\n",
       "      <th rowspan=\"2\" valign=\"top\">Bob</th>\n",
       "      <th>Chicago</th>\n",
       "      <td>1</td>\n",
       "    </tr>\n",
       "    <tr>\n",
       "      <th>Pheonix</th>\n",
       "      <td>1</td>\n",
       "    </tr>\n",
       "    <tr>\n",
       "      <th>Cyan</th>\n",
       "      <th>Houston</th>\n",
       "      <td>1</td>\n",
       "    </tr>\n",
       "    <tr>\n",
       "      <th>Kayne</th>\n",
       "      <th>Los Angeles</th>\n",
       "      <td>1</td>\n",
       "    </tr>\n",
       "    <tr>\n",
       "      <th>kill</th>\n",
       "      <th>UK</th>\n",
       "      <td>1</td>\n",
       "    </tr>\n",
       "    <tr>\n",
       "      <th>ram</th>\n",
       "      <th>WI</th>\n",
       "      <td>1</td>\n",
       "    </tr>\n",
       "    <tr>\n",
       "      <th>rao</th>\n",
       "      <th>India</th>\n",
       "      <td>1</td>\n",
       "    </tr>\n",
       "  </tbody>\n",
       "</table>\n",
       "</div>"
      ],
      "text/plain": [
       "                   Age\n",
       "Name  City            \n",
       "ALICE Newyork        1\n",
       "Bob   Chicago        1\n",
       "      Pheonix        1\n",
       "Cyan  Houston        1\n",
       "Kayne Los Angeles    1\n",
       "kill  UK             1\n",
       "ram   WI             1\n",
       "rao   India          1"
      ]
     },
     "execution_count": 319,
     "metadata": {},
     "output_type": "execute_result"
    }
   ],
   "source": [
    "df_group = filtta[[\"Age\"]]\n",
    "df_group.count()"
   ]
  },
  {
   "cell_type": "code",
   "execution_count": 323,
   "id": "5d878d4f-5827-4337-b0e2-d8d8fd5481a3",
   "metadata": {},
   "outputs": [],
   "source": [
    "df_age = df.groupby(['Age','Earnings'])"
   ]
  },
  {
   "cell_type": "code",
   "execution_count": 325,
   "id": "b0e34cea-bb2d-4214-bf72-ffdb59663b81",
   "metadata": {},
   "outputs": [
    {
     "data": {
      "text/html": [
       "<div>\n",
       "<style scoped>\n",
       "    .dataframe tbody tr th:only-of-type {\n",
       "        vertical-align: middle;\n",
       "    }\n",
       "\n",
       "    .dataframe tbody tr th {\n",
       "        vertical-align: top;\n",
       "    }\n",
       "\n",
       "    .dataframe thead th {\n",
       "        text-align: right;\n",
       "    }\n",
       "</style>\n",
       "<table border=\"1\" class=\"dataframe\">\n",
       "  <thead>\n",
       "    <tr style=\"text-align: right;\">\n",
       "      <th></th>\n",
       "      <th></th>\n",
       "      <th>Name</th>\n",
       "      <th>City</th>\n",
       "      <th>Earning_by_month</th>\n",
       "    </tr>\n",
       "    <tr>\n",
       "      <th>Age</th>\n",
       "      <th>Earnings</th>\n",
       "      <th></th>\n",
       "      <th></th>\n",
       "      <th></th>\n",
       "    </tr>\n",
       "  </thead>\n",
       "  <tbody>\n",
       "    <tr>\n",
       "      <th>22</th>\n",
       "      <th>40000</th>\n",
       "      <td>1</td>\n",
       "      <td>1</td>\n",
       "      <td>1</td>\n",
       "    </tr>\n",
       "    <tr>\n",
       "      <th rowspan=\"4\" valign=\"top\">23</th>\n",
       "      <th>21000</th>\n",
       "      <td>1</td>\n",
       "      <td>1</td>\n",
       "      <td>1</td>\n",
       "    </tr>\n",
       "    <tr>\n",
       "      <th>23500</th>\n",
       "      <td>1</td>\n",
       "      <td>1</td>\n",
       "      <td>1</td>\n",
       "    </tr>\n",
       "    <tr>\n",
       "      <th>35090</th>\n",
       "      <td>1</td>\n",
       "      <td>1</td>\n",
       "      <td>1</td>\n",
       "    </tr>\n",
       "    <tr>\n",
       "      <th>50000</th>\n",
       "      <td>1</td>\n",
       "      <td>1</td>\n",
       "      <td>1</td>\n",
       "    </tr>\n",
       "    <tr>\n",
       "      <th>25</th>\n",
       "      <th>24999</th>\n",
       "      <td>1</td>\n",
       "      <td>1</td>\n",
       "      <td>1</td>\n",
       "    </tr>\n",
       "    <tr>\n",
       "      <th>26</th>\n",
       "      <th>29000</th>\n",
       "      <td>1</td>\n",
       "      <td>1</td>\n",
       "      <td>1</td>\n",
       "    </tr>\n",
       "    <tr>\n",
       "      <th>27</th>\n",
       "      <th>31000</th>\n",
       "      <td>1</td>\n",
       "      <td>1</td>\n",
       "      <td>1</td>\n",
       "    </tr>\n",
       "  </tbody>\n",
       "</table>\n",
       "</div>"
      ],
      "text/plain": [
       "              Name  City  Earning_by_month\n",
       "Age Earnings                              \n",
       "22  40000        1     1                 1\n",
       "23  21000        1     1                 1\n",
       "    23500        1     1                 1\n",
       "    35090        1     1                 1\n",
       "    50000        1     1                 1\n",
       "25  24999        1     1                 1\n",
       "26  29000        1     1                 1\n",
       "27  31000        1     1                 1"
      ]
     },
     "execution_count": 325,
     "metadata": {},
     "output_type": "execute_result"
    }
   ],
   "source": [
    "df_age.count()\n"
   ]
  },
  {
   "cell_type": "code",
   "execution_count": 327,
   "id": "cf8a1387-f62a-435d-b446-004045efcc3f",
   "metadata": {},
   "outputs": [
    {
     "name": "stdout",
     "output_type": "stream",
     "text": [
      "               Name         City  Earning_by_month\n",
      "Age Earnings                                      \n",
      "22  40000      kill           UK       3333.333333\n",
      "23  21000     ALICE      Newyork       1750.000000\n",
      "    23500       Bob      Chicago       1958.333333\n",
      "    35090       rao        India       2924.166667\n",
      "    50000       ram           WI       4166.666667\n",
      "25  24999      Cyan      Houston       2083.250000\n",
      "26  29000       Bob      Pheonix       2416.666667\n",
      "27  31000     Kayne  Los Angeles       2583.333333\n"
     ]
    }
   ],
   "source": [
    "grouped = df_age.sum()\n",
    "print(grouped)"
   ]
  },
  {
   "cell_type": "code",
   "execution_count": 339,
   "id": "8e5abf36-2f79-4033-b46b-3d8e94c89291",
   "metadata": {},
   "outputs": [
    {
     "name": "stdout",
     "output_type": "stream",
     "text": [
      "24.5\n"
     ]
    }
   ],
   "source": [
    "f_f = df['Name']=='Bob'\n",
    "me = df[f_f]['Age'].mean()\n",
    "print(me)"
   ]
  },
  {
   "cell_type": "code",
   "execution_count": 343,
   "id": "ec224d2d-fa56-4417-bee5-209afee05d13",
   "metadata": {},
   "outputs": [
    {
     "name": "stdout",
     "output_type": "stream",
     "text": [
      "26250.0\n"
     ]
    }
   ],
   "source": [
    "\n",
    "ne = df[f_f]['Earnings'].mean()\n",
    "print(ne)"
   ]
  },
  {
   "cell_type": "markdown",
   "id": "c1b32c67-99be-43c2-bf6d-24999773dfae",
   "metadata": {},
   "source": [
    "# Data Cleaning: Handle missing values by either removing or replacing them with appropriate values."
   ]
  },
  {
   "cell_type": "code",
   "execution_count": 346,
   "id": "1249d7f1-2af0-4db4-8c7b-c2e8f16c9fb5",
   "metadata": {},
   "outputs": [
    {
     "name": "stdout",
     "output_type": "stream",
     "text": [
      "Name                0\n",
      "Age                 0\n",
      "Earnings            0\n",
      "City                0\n",
      "Earning_by_month    0\n",
      "dtype: int64\n"
     ]
    }
   ],
   "source": [
    "print(df.isnull().sum())"
   ]
  },
  {
   "cell_type": "code",
   "execution_count": 352,
   "id": "6e7e6170-dfd3-447d-8f98-370777aa9c2f",
   "metadata": {},
   "outputs": [
    {
     "data": {
      "text/plain": [
       "Name                0\n",
       "Earnings            0\n",
       "City                0\n",
       "Earning_by_month    0\n",
       "dtype: int64"
      ]
     },
     "execution_count": 352,
     "metadata": {},
     "output_type": "execute_result"
    }
   ],
   "source": [
    "df_ww = df.drop(['Age'],axis=1)\n",
    "df_ww.isnull().sum()"
   ]
  },
  {
   "cell_type": "code",
   "execution_count": 356,
   "id": "2ff385d6-475f-4129-b809-5ecaacc5d613",
   "metadata": {},
   "outputs": [
    {
     "name": "stdout",
     "output_type": "stream",
     "text": [
      "    Name  Earnings         City  Earning_by_month\n",
      "0  ALICE     21000      Newyork       1750.000000\n",
      "1    Bob     23500      Chicago       1958.333333\n",
      "2   Cyan     24999      Houston       2083.250000\n",
      "3    Bob     29000      Pheonix       2416.666667\n",
      "4  Kayne     31000  Los Angeles       2583.333333\n",
      "5   kill     40000           UK       3333.333333\n",
      "6    rao     35090        India       2924.166667\n",
      "7    ram     50000           WI       4166.666667\n"
     ]
    }
   ],
   "source": [
    "print(df_ww)"
   ]
  },
  {
   "cell_type": "code",
   "execution_count": null,
   "id": "ebdc2951-1eea-4d29-907e-f4c8cbed953d",
   "metadata": {},
   "outputs": [],
   "source": []
  }
 ],
 "metadata": {
  "kernelspec": {
   "display_name": "Python 3 (ipykernel)",
   "language": "python",
   "name": "python3"
  },
  "language_info": {
   "codemirror_mode": {
    "name": "ipython",
    "version": 3
   },
   "file_extension": ".py",
   "mimetype": "text/x-python",
   "name": "python",
   "nbconvert_exporter": "python",
   "pygments_lexer": "ipython3",
   "version": "3.12.4"
  }
 },
 "nbformat": 4,
 "nbformat_minor": 5
}
